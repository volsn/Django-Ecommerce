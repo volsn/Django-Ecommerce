{
 "cells": [
  {
   "cell_type": "markdown",
   "metadata": {},
   "source": [
    "## Generating description using Lorem"
   ]
  },
  {
   "cell_type": "code",
   "execution_count": 43,
   "metadata": {},
   "outputs": [],
   "source": [
    "import lorem"
   ]
  },
  {
   "cell_type": "code",
   "execution_count": 22,
   "metadata": {},
   "outputs": [
    {
     "name": "stdout",
     "output_type": "stream",
     "text": [
      "Dolorem quiquia aliquam modi ut. Labore magnam consectetur quisquam sit amet. Voluptatem sed non quisquam amet modi aliquam aliquam. Porro tempora numquam amet labore. Labore aliquam non quiquia amet adipisci ut neque. Quiquia quisquam voluptatem ipsum consectetur consectetur. Sed amet etincidunt voluptatem magnam dolor eius voluptatem. Dolor aliquam tempora consectetur est magnam. Dolor numquam sed magnam dolore sit neque numquam. Porro quiquia quaerat numquam consectetur etincidunt etincidunt voluptatem.\n",
      "\n",
      "Numquam adipisci modi quiquia magnam modi numquam sit. Eius non neque dolor sit quiquia etincidunt labore. Voluptatem velit adipisci dolorem quaerat tempora ut. Velit ut porro dolorem. Dolore voluptatem sed aliquam quisquam tempora numquam. Sit labore neque dolorem quaerat quisquam voluptatem neque. Quaerat quaerat non tempora etincidunt quiquia ut quisquam. Adipisci quisquam modi ipsum neque. Aliquam consectetur dolore tempora.\n",
      "\n",
      "Quaerat labore labore dolorem dolor est dolore. Dolor amet labore numquam numquam. Eius dolor aliquam dolore dolor. Neque labore sit dolor dolore sed velit. Amet non consectetur eius consectetur quisquam eius. Dolore quisquam tempora quaerat ut quiquia porro.\n",
      "\n",
      "Sit sed velit quaerat quiquia ipsum aliquam. Dolorem ut dolore quiquia labore. Quiquia sed voluptatem dolorem quiquia adipisci tempora. Neque porro modi etincidunt. Etincidunt quiquia aliquam eius quisquam. Eius tempora quaerat dolor etincidunt velit. Quisquam labore ipsum non est eius.\n",
      "\n",
      "Magnam porro consectetur sed etincidunt ut. Aliquam quisquam quisquam est porro dolor consectetur dolorem. Velit dolor eius sed etincidunt dolorem. Aliquam voluptatem numquam modi dolore. Adipisci non sed tempora dolore sed. Magnam dolore dolorem eius dolorem porro dolorem. Non est amet quisquam etincidunt consectetur. Porro non neque numquam numquam consectetur velit porro. Quisquam non etincidunt non.\n"
     ]
    }
   ],
   "source": [
    "print('\\n\\n'.join([lorem.paragraph() for _ in range(5)]))"
   ]
  },
  {
   "cell_type": "code",
   "execution_count": 16,
   "metadata": {},
   "outputs": [
    {
     "data": {
      "text/plain": [
       "['data', 'paragraph', 'sentence', 'text']"
      ]
     },
     "execution_count": 16,
     "metadata": {},
     "output_type": "execute_result"
    }
   ],
   "source": [
    "[func for func in dir(lorem) if not func.startswith('_')]"
   ]
  },
  {
   "cell_type": "code",
   "execution_count": null,
   "metadata": {},
   "outputs": [],
   "source": []
  },
  {
   "cell_type": "markdown",
   "metadata": {},
   "source": [
    "## Generating size"
   ]
  },
  {
   "cell_type": "code",
   "execution_count": 23,
   "metadata": {},
   "outputs": [],
   "source": [
    "import random"
   ]
  },
  {
   "cell_type": "code",
   "execution_count": 26,
   "metadata": {},
   "outputs": [
    {
     "data": {
      "text/plain": [
       "'150x170x120'"
      ]
     },
     "execution_count": 26,
     "metadata": {},
     "output_type": "execute_result"
    }
   ],
   "source": [
    "'x'.join([str(random.randint(5, 20) * 10) for _ in range(3)])"
   ]
  },
  {
   "cell_type": "code",
   "execution_count": null,
   "metadata": {},
   "outputs": [],
   "source": []
  },
  {
   "cell_type": "markdown",
   "metadata": {},
   "source": [
    "## Blog's short title"
   ]
  },
  {
   "cell_type": "code",
   "execution_count": 67,
   "metadata": {},
   "outputs": [],
   "source": [
    "title = \"Dolore etincidunt dolor consectetur ipsum.\""
   ]
  },
  {
   "cell_type": "code",
   "execution_count": 69,
   "metadata": {},
   "outputs": [
    {
     "data": {
      "text/plain": [
       "'Dolore etincidunt dolor ...'"
      ]
     },
     "execution_count": 69,
     "metadata": {},
     "output_type": "execute_result"
    }
   ],
   "source": [
    "output = \"\"\n",
    "for word in title.split():\n",
    "    if len(output + word) < 30:\n",
    "        output += word  + ' '\n",
    "output += '...'\n",
    "output"
   ]
  },
  {
   "cell_type": "code",
   "execution_count": null,
   "metadata": {},
   "outputs": [],
   "source": []
  },
  {
   "cell_type": "markdown",
   "metadata": {},
   "source": [
    "## Paragraph text split"
   ]
  },
  {
   "cell_type": "code",
   "execution_count": 70,
   "metadata": {},
   "outputs": [],
   "source": [
    "text = \"<p>Ut dolor dolorem modi ut etincidunt porro sed. Sed dolor quiquia ut tempora porro dolore. Neque quisquam dolor modi labore magnam neque. Labore dolor aliquam porro eius quisquam. Sed dolor dolore numquam modi quaerat. Sit labore sit magnam.</p><p>Neque amet amet sed. Voluptatem amet eius modi amet eius ut voluptatem. Porro sed dolore porro dolor. Dolore tempora dolor porro ut. Neque tempora numquam non voluptatem adipisci. Labore etincidunt sed numquam sed quiquia quaerat.</p><p>Adipisci eius quaerat quaerat est voluptatem. Modi velit quisquam tempora labore. Consectetur est est dolor. Quiquia labore sit dolor tempora. Ipsum neque ut porro adipisci. Porro ut quisquam sed ipsum aliquam modi eius. Quiquia etincidunt voluptatem labore quisquam. Consectetur amet quiquia velit dolorem.</p><p>Adipisci quisquam dolorem sit consectetur. Aliquam amet quisquam non ut. Eius ipsum ipsum quisquam sit quisquam. Sit ut non modi. Voluptatem consectetur neque ipsum dolor quiquia. Voluptatem dolor aliquam quaerat. Tempora ipsum modi quiquia. Non numquam porro etincidunt tempora ipsum dolorem. Porro numquam tempora tempora ut adipisci quisquam. Dolor labore dolore dolore sit numquam est.</p><p>Sit aliquam sit non consectetur. Dolore quiquia neque dolorem quiquia dolore. Neque dolor dolore non ut velit porro. Numquam tempora tempora labore dolorem dolor. Porro est porro amet ipsum non. Dolore consectetur ipsum neque porro quiquia etincidunt quaerat. Dolorem dolorem sed sed porro ipsum est. Voluptatem etincidunt numquam magnam velit magnam. Eius tempora dolor amet aliquam quaerat dolore. Labore magnam quaerat labore dolore neque velit.</p><p>Porro sed numquam sed sed aliquam quiquia magnam. Magnam porro dolore adipisci velit. Non amet velit eius modi adipisci. Dolor dolore voluptatem aliquam adipisci modi magnam. Non magnam tempora dolorem velit dolore consectetur. Numquam dolore voluptatem numquam porro labore dolor amet. Quisquam adipisci ipsum magnam. Dolorem ut quisquam modi est. Neque sit dolorem amet quiquia adipisci porro dolore. Quiquia quisquam amet consectetur labore quaerat.</p><p>Amet sit neque consectetur. Dolore labore tempora etincidunt aliquam. Ut velit non est labore sit. Adipisci porro magnam porro numquam aliquam dolorem. Consectetur eius est magnam dolor voluptatem tempora. Etincidunt numquam eius dolor.</p>\""
   ]
  },
  {
   "cell_type": "code",
   "execution_count": 82,
   "metadata": {},
   "outputs": [
    {
     "data": {
      "text/plain": [
       "'<p>Ut dolor dolorem modi ut etincidunt porro sed. Sed dolor quiquia ut tempora porro dolore. Neque quisquam dolor modi labore magnam neque. Labore dolor aliquam porro eius quisquam. Sed dolor dolore numquam modi quaerat. Sit labore sit magnam.</p>'"
      ]
     },
     "execution_count": 82,
     "metadata": {},
     "output_type": "execute_result"
    }
   ],
   "source": [
    "'</p>'.join(text.split('</p>')[:1]) + '</p>'"
   ]
  },
  {
   "cell_type": "code",
   "execution_count": null,
   "metadata": {},
   "outputs": [],
   "source": []
  }
 ],
 "metadata": {
  "kernelspec": {
   "display_name": "Python 3",
   "language": "python",
   "name": "python3"
  },
  "language_info": {
   "codemirror_mode": {
    "name": "ipython",
    "version": 3
   },
   "file_extension": ".py",
   "mimetype": "text/x-python",
   "name": "python",
   "nbconvert_exporter": "python",
   "pygments_lexer": "ipython3",
   "version": "3.7.7"
  }
 },
 "nbformat": 4,
 "nbformat_minor": 4
}
